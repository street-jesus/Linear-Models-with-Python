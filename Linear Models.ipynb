{
 "cells": [
  {
   "cell_type": "code",
   "execution_count": 5,
   "id": "8739946c",
   "metadata": {},
   "outputs": [],
   "source": [
    "import mglearn\n",
    "import sklearn"
   ]
  },
  {
   "cell_type": "code",
   "execution_count": 3,
   "id": "73c9a345",
   "metadata": {},
   "outputs": [
    {
     "name": "stdout",
     "output_type": "stream",
     "text": [
      "w[0]: 0.393906  b: -0.031804\n"
     ]
    },
    {
     "data": {
      "image/png": "[encoded data removed]",
      "text/plain": [
       "<Figure size 576x576 with 1 Axes>"
      ]
     },
     "metadata": {
      "needs_background": "light"
     },
     "output_type": "display_data"
    }
   ],
   "source": [
    "mglearn.plots.plot_linear_regression_wave()"
   ]
  },
  {
   "cell_type": "markdown",
   "id": "21a12243",
   "metadata": {},
   "source": [
    "**It can be observed that the slope is about 0.4(to figure this out Y/X) and the intercept is a tad bit below 0**"
   ]
  },
  {
   "cell_type": "markdown",
   "id": "48fabe16",
   "metadata": {},
   "source": [
    "#### Linear Regression\n",
    "- Linear Regression upsets the value of the Coefficient of feature/(slope) and the y-intercept that minimizes the mean square error between the predicted y value and the true regression target"
   ]
  },
  {
   "cell_type": "markdown",
   "id": "7d799ee3",
   "metadata": {},
   "source": [
    "### Ordinary least squares/ Linear Regression"
   ]
  },
  {
   "cell_type": "code",
   "execution_count": 52,
   "id": "fa708c27",
   "metadata": {},
   "outputs": [],
   "source": [
    "from sklearn.linear_model import LinearRegression\n",
    "from sklearn.model_selection import train_test_split\n",
    "X,y = mglearn.datasets.make_wave(n_samples=60)\n",
    "X_train, X_test, y_train, y_test = train_test_split(X,y, random_state = 5)\n",
    "lr = LinearRegression().fit(X_train, y_train)"
   ]
  },
  {
   "cell_type": "code",
   "execution_count": 53,
   "id": "60850a39",
   "metadata": {},
   "outputs": [
    {
     "name": "stdout",
     "output_type": "stream",
     "text": [
      "lr.cofficient:[0.42427022]\n"
     ]
    }
   ],
   "source": [
    "print(\"lr.cofficient:{}\".format(lr.coef_))"
   ]
  },
  {
   "cell_type": "code",
   "execution_count": 54,
   "id": "8fc42e22",
   "metadata": {},
   "outputs": [
    {
     "name": "stdout",
     "output_type": "stream",
     "text": [
      "lr.intercept:-0.11312062219477523\n"
     ]
    }
   ],
   "source": [
    "print(\"lr.intercept:{}\". format(lr.intercept_))"
   ]
  },
  {
   "cell_type": "markdown",
   "id": "14a14f93",
   "metadata": {},
   "source": [
    "**Sklearn stores any thing derived from a training data with and underscore to create a seperation from the values that may be later set by individuals themselves**"
   ]
  },
  {
   "cell_type": "code",
   "execution_count": 55,
   "id": "4f280139",
   "metadata": {},
   "outputs": [
    {
     "name": "stdout",
     "output_type": "stream",
     "text": [
      "Training set score:0.6451046094166151\n",
      "Test set score:0.7354653381562118\n"
     ]
    }
   ],
   "source": [
    "print(\"Training set score:{}\".format(lr.score(X_train, y_train)))\n",
    "print(\"Test set score:{}\".format(lr.score(X_test, y_test)))"
   ]
  },
  {
   "cell_type": "code",
   "execution_count": 56,
   "id": "0059dd8c",
   "metadata": {},
   "outputs": [
    {
     "name": "stdout",
     "output_type": "stream",
     "text": [
      "(45, 1)\n"
     ]
    }
   ],
   "source": [
    "print(X_train.shape)"
   ]
  },
  {
   "cell_type": "markdown",
   "id": "f6510914",
   "metadata": {},
   "source": [
    "#### Trying the same model on the boston housing dataset"
   ]
  },
  {
   "cell_type": "code",
   "execution_count": 92,
   "id": "1720eb7e",
   "metadata": {},
   "outputs": [
    {
     "name": "stdout",
     "output_type": "stream",
     "text": [
      "Train set score:0.942699618930545\n",
      "Test set score:0.641372988630778\n"
     ]
    }
   ],
   "source": [
    "X, y = mglearn.datasets.load_extended_boston()\n",
    "X_train, X_test, y_train, y_test = train_test_split(X, y, random_state = 6)\n",
    "lr = LinearRegression().fit(X_train, y_train)\n",
    "\n",
    "print(\"Train set score:{}\".format(lr.score(X_train, y_train)))\n",
    "print(\"Test set score:{}\".format(lr.score(X_test, y_test))) #Overfitted"
   ]
  },
  {
   "cell_type": "markdown",
   "id": "9fee101a",
   "metadata": {},
   "source": [
    "### Ridge Regression"
   ]
  },
  {
   "cell_type": "markdown",
   "id": "ab202ea8",
   "metadata": {},
   "source": [
    "**Very similar to ordinary least squares but it has a fixed coefficent which tends to zero making the features have very little effect on the prediction.**"
   ]
  },
  {
   "cell_type": "code",
   "execution_count": 99,
   "id": "c2f5f11e",
   "metadata": {},
   "outputs": [
    {
     "name": "stdout",
     "output_type": "stream",
     "text": [
      "Training set score:0.86\n",
      "Test set score:0.81\n"
     ]
    }
   ],
   "source": [
    "from sklearn.linear_model import Ridge\n",
    "#we continued with the boston data set\n",
    "#default alpha parameter used is 1.0 \n",
    "ridge = Ridge().fit(X_train, y_train)\n",
    " \n",
    "print(\"Training set score:{:.2}\".format(ridge.score(X_train, y_train)))\n",
    "print(\"Test set score:{:.2}\".format(ridge.score(X_test, y_test)))\n"
   ]
  },
  {
   "cell_type": "markdown",
   "id": "9d6498b5",
   "metadata": {},
   "source": [
    "- Increasing alpha makes the coefficient tend to zero which results to the model making a more generalized prediction"
   ]
  },
  {
   "cell_type": "code",
   "execution_count": 106,
   "id": "39597ae9",
   "metadata": {},
   "outputs": [
    {
     "name": "stdout",
     "output_type": "stream",
     "text": [
      "Training set score:0.77\n",
      "Test set score:0.72\n"
     ]
    }
   ],
   "source": [
    "#A more generalized model\n",
    "ridge_10 = Ridge(alpha = 10).fit(X_train, y_train)\n",
    "print(\"Training set score:{:.2}\".format(ridge_10.score(X_train, y_train)))\n",
    "print(\"Test set score:{:.2}\".format(ridge_10.score(X_test, y_test)))"
   ]
  },
  {
   "cell_type": "code",
   "execution_count": 104,
   "id": "9f6513e6",
   "metadata": {},
   "outputs": [
    {
     "name": "stdout",
     "output_type": "stream",
     "text": [
      "Training set score:0.9127455628402061\n",
      "Test set score:0.8309197909841645\n"
     ]
    }
   ],
   "source": [
    "#A model with higher training set performance\n",
    "#reduced alpha, less restrictions similar model to the odinary least square model\n",
    "ridge_01 = Ridge(alpha = 0.1).fit(X_train, y_train)\n",
    "print(\"Training set score:{}\".format(ridge_01.score(X_train, y_train)))\n",
    "print(\"Test set score:{}\".format(ridge_01.score(X_test, y_test)))"
   ]
  },
  {
   "cell_type": "markdown",
   "id": "c5ef5edb",
   "metadata": {},
   "source": [
    "- A reduction of the alpha resulted to a higher performance on the trining set"
   ]
  },
  {
   "cell_type": "code",
   "execution_count": 108,
   "id": "fdeee368",
   "metadata": {},
   "outputs": [],
   "source": [
    "import matplotlib.pyplot as plt"
   ]
  },
  {
   "cell_type": "code",
   "execution_count": 110,
   "id": "3062e27e",
   "metadata": {},
   "outputs": [
    {
     "data": {
      "text/plain": [
       "<matplotlib.legend.Legend at 0x28164d77250>"
      ]
     },
     "execution_count": 110,
     "metadata": {},
     "output_type": "execute_result"
    },
    {
     "data": {
      "image/png": "[encoded data removed]",
      "text/plain": [
       "<Figure size 432x288 with 1 Axes>"
      ]
     },
     "metadata": {
      "needs_background": "light"
     },
     "output_type": "display_data"
    }
   ],
   "source": [
    "plt.plot(ridge.coef_, \"s\", label = \"Ridge_alpha = 1\")\n",
    "plt.plot(ridge_10.coef_, \"^\", label = \"Ridge_alpha = 10\")\n",
    "plt.plot(ridge_01.coef_, \"v\", label = \"Ridge_alpha = 0.1\")\n",
    "\n",
    "plt.plot(lr.coef_, \"o\", label = \"LinearRegression\")\n",
    "\n",
    "plt.xlabel(\"coefficient index\")\n",
    "plt.ylabel(\"coefficient magnitude\")\n",
    "plt.hlines(0,0,len(lr.coef_))\n",
    "plt.ylim(-25,25)\n",
    "plt.legend()"
   ]
  },
  {
   "cell_type": "code",
   "execution_count": null,
   "id": "59d22adb",
   "metadata": {},
   "outputs": [],
   "source": []
  }
 ],
 "metadata": {
  "kernelspec": {
   "display_name": "Python 3 (ipykernel)",
   "language": "python",
   "name": "python3"
  },
  "language_info": {
   "codemirror_mode": {
    "name": "ipython",
    "version": 3
   },
   "file_extension": ".py",
   "mimetype": "text/x-python",
   "name": "python",
   "nbconvert_exporter": "python",
   "pygments_lexer": "ipython3",
   "version": "3.9.7"
  }
 },
 "nbformat": 4,
 "nbformat_minor": 5
}
